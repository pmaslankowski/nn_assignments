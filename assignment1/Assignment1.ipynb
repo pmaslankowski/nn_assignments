{
 "cells": [
  {
   "cell_type": "markdown",
   "metadata": {},
   "source": [
    "# Assignment 1\n",
    "\n",
    "**Submission deadline:**\n",
    "* **Problems 1-4: last lab session before or on Wednesday, 18.10.17**\n",
    "* **Problems 5-6: last lab session before or on Wednesday, 25.10.17**\n",
    "\n",
    "**Points: 10 + 4 bonus points**\n",
    "\n",
    "Please note: some of the assignments are tedious or boring if you are already a NumPy ninja. The bonus problems were designed to give you a more satisfying alternative.\n",
    "\n",
    "## Downloading this notebook\n",
    "\n",
    "This assignment is an Jupyter notebook. Download it by cloning https://github.com/janchorowski/nn_assignments. Follow the instructions in its README for instructions. Whenever possible, add your solutions to the notebook. \n",
    "\n",
    "Please email us about any problems with it - we will try to correct them quickly. Also, please do not hesitate to use **GitHub’s pull requests** to send us corrections!"
   ]
  },
  {
   "cell_type": "code",
   "execution_count": 1,
   "metadata": {
    "collapsed": true
   },
   "outputs": [],
   "source": [
    "# Standard IPython notebook imports\n",
    "%matplotlib inline\n",
    "\n",
    "from __future__ import absolute_import\n",
    "from __future__ import division\n",
    "from __future__ import print_function\n",
    "\n",
    "import os\n",
    "\n",
    "import numpy as np\n",
    "import matplotlib.pyplot as plt\n",
    "\n",
    "from sklearn import datasets"
   ]
  },
  {
   "cell_type": "markdown",
   "metadata": {},
   "source": [
    "## Problem 0 [0p]\n",
    "1. Get familiar with [lab_guide.pdf](https://github.com/janchorowski/nn_assignments/blob/nn17_fall/lab_guide.pdf). It is not obligatory to use the labs remotely and most of the time you will do just fine with your own machine. However, we recommend using labs for the most computationally-intensive tasks such as the final projects.\n",
    "\n",
    "    Make sure you know how to:\n",
    "    * load the Anaconda Python distribution with `/pio/os/anaconda/set-env.sh` (confirm with `python -V`)\n",
    "    <br/>\n",
    "    (also: look into this `nn_assignments`' `set-env.sh` and see that it loads `Anaconda` for you),\n",
    "    * connect to labs 110/137 from *outside* of the faculty,\n",
    "    * copy a file over an ssh tunnel or connect remotely to a Jupyter Notebook,\n",
    "    * use `GNU screen`, `tmux` and/or `nohup`,\n",
    "    * leave a process running, disconnect, connect again and verify it is still running.\n",
    "  \n",
    "  In case of problems, ask for help!\n",
    "  \n",
    "  \n",
    "2. Read [Jupyter tutorial from Data Analysis in Biological Sciences course at Caltech](http://bebi103.caltech.edu/2015/tutorials/t0b_intro_to_jupyter_notebooks.html) (which itself can be downloaded as a Jupyter notebook). Feel free to skip the tutorial if you have some prior experience with Jupyter notebook."
   ]
  },
  {
   "cell_type": "markdown",
   "metadata": {},
   "source": [
    "## Problem 1 [2p]\n",
    "\n",
    "First, get familiar with Python at https://docs.python.org/2/tutorial/. Then, get\n",
    "to know the capabilities of NumPy, the prime numerical library of Python http://www.numpy.org/, for instance with the tutorial at http://wiki.scipy.org/Tentative_NumPy_Tutorial.\n",
    "\n",
    "You might also need:\n",
    "  1. another intro to NumPy,\n",
    "http://people.duke.edu/~ccc14/pcfb/numerics.html\n",
    "  2. a better interactive shell for Python,\n",
    "http://ipython.org/\n",
    "  3. access to IPython through an ordinary web browser,\n",
    "http://ipython.org/notebook.html\n",
    "  4. a plotting library for Python.\n",
    "http://matplotlib.org/\n",
    "\n",
    "**a) Declare variables:**\n",
    "1. $a=10$,\n",
    "2. $b=2.5\\times 10^{23}$,\n",
    "3. $c=2+3i$, where $i$ is an imaginary unit,\n",
    "4. $d=e^{i2\\pi/3}$, where $i$ is an imaginary unit, $e$ is the Euler's number (use `exp`, `pi`)."
   ]
  },
  {
   "cell_type": "code",
   "execution_count": 2,
   "metadata": {
    "collapsed": true
   },
   "outputs": [],
   "source": [
    "# TODO: Complete the declarations\n",
    "a = 10\n",
    "b = 2.5e23\n",
    "c = complex(2, 3) \n",
    "d = np.exp(complex(0, 2*np.pi/3))"
   ]
  },
  {
   "cell_type": "markdown",
   "metadata": {},
   "source": [
    "**b) Declare vectors:**\n",
    "1. $aVec=\\begin{bmatrix} 3.14 & 15 & 9 & 26 \\end{bmatrix}$,\n",
    "2. $bVec=\\begin{bmatrix} 2.71 & 8 & 28 & 182 \\end{bmatrix}^\\intercal$ (column vector),\n",
    "3. $cVec=\\begin{bmatrix} 5 & 4.8 & \\cdots & -4.8 & -5 \\end{bmatrix}$ (vector of numbers from $5$ to $-5$ decreasing by $0.2$),\n",
    "4. $dVec=\\begin{bmatrix} 10^0 & 10^{0.01} & \\cdots & 10^{0.99} & 10^1 \\end{bmatrix}$ (logarithmically spaced numbers from 1 to 10, use `logspace` and make sure, that the result has correct length!),\n",
    "5. $eVec=Hello$ ($eVec$ is a string of characters, thus a vector)."
   ]
  },
  {
   "cell_type": "code",
   "execution_count": 3,
   "metadata": {
    "collapsed": true
   },
   "outputs": [],
   "source": [
    "aVec = np.array([[3.14, 15, 9, 26]])\n",
    "bVec = np.array([[2.71, 8, 28, 182]]).T\n",
    "cVec = np.arange(5, -5.2, -0.2)[None, :]\n",
    "dVec = np.logspace(0, 1, 101)[None, :]\n",
    "eVec = np.array(list(\"Hello\"))[None, :]"
   ]
  },
  {
   "cell_type": "markdown",
   "metadata": {},
   "source": [
    "\n",
    "**c) Declare matrices:**\n",
    "1. $aMat=\\begin{bmatrix}\n",
    "                    2      & \\cdots & 2 \\\\\n",
    "                    \\vdots & \\ddots & \\vdots \\\\\n",
    "                    2      & \\cdots & 2\n",
    "                \\end{bmatrix}$,\n",
    "<br/>\n",
    "matrix $9\\times 9$ filled with 2s (use `ones` or `zeros`),\n",
    "2. $bMat=\\begin{bmatrix}\n",
    "                    1      & 0      & \\cdots &        & 0      \\\\\n",
    "                    0      & \\ddots & 0      &        & 0      \\\\\n",
    "                    \\vdots & 0      & 5      & 0      & \\vdots \\\\\n",
    "                           &        & 0      & \\ddots & 0      \\\\\n",
    "                    0      &        & \\cdots & 0      & 1\n",
    "                \\end{bmatrix}$,\n",
    "<br/>\n",
    "matrix $9\\times 9$ filled with zeros, with $\\begin{bmatrix} 1 & 2 & 3 & 4 & 5 & 4 & 3 & 2 & 1 \\end{bmatrix}$ on its diagonal (use `zeros`, `diag`),\n",
    "3. $cMat=\\begin{bmatrix}\n",
    "                    1      & 11     & \\cdots & 91     \\\\\n",
    "                    2      & 12     & \\ddots & 92     \\\\\n",
    "                    \\vdots & \\vdots & \\ddots & \\vdots \\\\\n",
    "                    10     & 20     & \\cdots & 100\n",
    "                \\end{bmatrix}$,\n",
    "<br/>\n",
    "matrix $10\\times 10$, columns of which form the vector $1:100$ (use `reshape`),\n",
    "4. $dMat=\\begin{bmatrix}\n",
    "                    NaN & NaN & NaN & NaN \\\\\n",
    "                    NaN & NaN & NaN & NaN \\\\\n",
    "                    NaN & NaN & NaN & NaN\n",
    "                \\end{bmatrix}$,\n",
    "<br/>\n",
    "matrix $3\\times 4$ filled with `NaN`s (use... `NaN`),\n",
    "5. $eMat=\\begin{bmatrix}\n",
    "                    13  & -1  & 5  \\\\\n",
    "                    -22 & 10  & -87\n",
    "                \\end{bmatrix}$,\n",
    "<br/>\n",
    "6. $fMat$ filled with random natural numbers from $[-3,3]$ (use `rand` and `floor` or `ceil`)."
   ]
  },
  {
   "cell_type": "code",
   "execution_count": 4,
   "metadata": {
    "collapsed": true
   },
   "outputs": [],
   "source": [
    "aMat = 2 * np.ones((9,9))\n",
    "bMat = np.zeros((9,9)) + np.diag([1,2,3,4,5,4,3,2,1])\n",
    "cMat = np.arange(1, 101).reshape((10, 10), order='F') \n",
    "dMat = np.NaN + np.zeros((3,4)) \n",
    "eMat = np.array([[13, -1, 5], [22, 10, -87]]) \n",
    "fMat = np.random.randint(-3, 3, (4,3))"
   ]
  },
  {
   "cell_type": "markdown",
   "metadata": {},
   "source": [
    "** d) Declare a multiplication table ** as a $10\\times 10$ matrix `mulMat`. Use matrix/vector multiplication."
   ]
  },
  {
   "cell_type": "code",
   "execution_count": 5,
   "metadata": {
    "collapsed": true
   },
   "outputs": [],
   "source": [
    "mulMat = np.arange(1, 11).reshape(10, 1).dot(np.arange(1,11).reshape(1, 10))"
   ]
  },
  {
   "cell_type": "markdown",
   "metadata": {},
   "source": [
    "** e) Compute elemwise using values from b).**\n",
    "For instance, the first element of $xVec[0]$ should be equal to\n",
    "\n",
    "\\begin{equation}\n",
    "1/(\\sqrt{2\\pi2.5^2}) e^{-cVec[0]^2 / (2\\cdot\\pi 2.5^2)}.\n",
    "\\end{equation}\n",
    "\n",
    "1. $xVec=1/(\\sqrt{2\\pi2.5^2}) e^{-cVec^2 / (2\\cdot\\pi 2.5^2)}$\n",
    "2. $yVec=\\sqrt{(aVec^\\intercal)^2 + bVec^2}$\n",
    "3. $zVec=\\log_{10}(1/dVec)$, using `log10`"
   ]
  },
  {
   "cell_type": "code",
   "execution_count": 6,
   "metadata": {
    "collapsed": true
   },
   "outputs": [],
   "source": [
    "xVec = 1 / np.sqrt(2 * np.pi * 2.5 ** 2) * np.exp(-cVec ** 2 / (2 * np.pi * 2.5 ** 2))\n",
    "yVec = np.sqrt((aVec.T) ** 2 + bVec ** 2)\n",
    "zVec = np.log10(1 / dVec)"
   ]
  },
  {
   "cell_type": "markdown",
   "metadata": {},
   "source": [
    "** f) Compute with matrix/vector operations using values from c).**\n",
    "\n",
    "**NOTE:** Every multiplication (and power) in this subtask is a [matrix multiplication](https://en.wikipedia.org/wiki/Matrix_multiplication).\n",
    "1. $xMat=(aVec\\cdot bVec)aMat^2$,\n",
    "2. $yMat=bVec\\cdot aVec$\n",
    "<br/>\n",
    "(remember, that matrix multiplication is not commutative),\n",
    "4. $zMat=\\lvert cMat\\rvert (aMat\\cdot bMat)^\\intercal$, where $\\lvert A\\rvert$ denotes determinant of $A$ (use `det`)."
   ]
  },
  {
   "cell_type": "code",
   "execution_count": 7,
   "metadata": {
    "collapsed": true
   },
   "outputs": [],
   "source": [
    "xMat = aVec.dot(bVec) * np.linalg.matrix_power(aMat, 2)\n",
    "yMat = bVec.dot(aVec)\n",
    "zMat = np.linalg.det(cMat) * aMat.dot(bMat).T"
   ]
  },
  {
   "cell_type": "markdown",
   "metadata": {},
   "source": [
    "** g) Declare `ismagic(A)` function ** which checks if matrix $A$ is a [magic square](https://en.wikipedia.org/wiki/Magic_square) and returns a boolean."
   ]
  },
  {
   "cell_type": "code",
   "execution_count": 8,
   "metadata": {
    "collapsed": true
   },
   "outputs": [],
   "source": [
    "def ismagic(A):\n",
    "    if (A.shape[0] != A.shape[1] or np.any(np.sort(A.flatten()) != np.arange(1, A.shape[0] ** 2 + 1))):\n",
    "        return False\n",
    "    diag_sum = M.trace()\n",
    "    antidiag_sum = M[::-1].trace()\n",
    "    vert_sums = M.sum(axis = 0)\n",
    "    hor_sums = M.sum(axis = 1)\n",
    "    return diag_sum == antidiag_sum and np.all(vert_sums == diag_sum) and np.all(hor_sums == diag_sum)\n",
    "\n",
    "#Test:\n",
    "#M = np.array([[2, 7, 6], [9, 5, 1], [4,3,8]])\n",
    "#ismagic(M)"
   ]
  },
  {
   "cell_type": "markdown",
   "metadata": {},
   "source": [
    "# k-Nearest Neighbors\n",
    "\n",
    "The following excerpt of code loads the data describing iris flowers\n",
    "and shows relations between their length and petal width for three\n",
    "species (namely: setosa, versicolor, virginica)."
   ]
  },
  {
   "cell_type": "code",
   "execution_count": 3,
   "metadata": {},
   "outputs": [
    {
     "name": "stdout",
     "output_type": "stream",
     "text": [
      "Populating the interactive namespace from numpy and matplotlib\nFeatures:  ['sepal length (cm)', 'sepal width (cm)', 'petal length (cm)', 'petal width (cm)']\nTargets:  ['setosa' 'versicolor' 'virginica']\n"
     ]
    },
    {
     "data": {
      "image/png": "[encoded data removed]",
      "text/plain": [
       "<matplotlib.figure.Figure at 0x7fb8c02f8390>"
      ]
     },
     "metadata": {},
     "output_type": "display_data"
    }
   ],
   "source": [
    "# pylab - loads numerical and graphical libraries into the IPython notebook\n",
    "%pylab inline\n",
    "\n",
    "# sklearn is a large collection of machine learning algorithms\n",
    "# here we’ll use it only for the built-in iris dataset\n",
    "from sklearn import datasets\n",
    "\n",
    "iris = datasets.load_iris()\n",
    "print('Features: ', iris.feature_names)\n",
    "print('Targets: ', iris.target_names)\n",
    "\n",
    "petal_length = iris.data[:, iris.feature_names.index('petal length (cm)')]\n",
    "petal_width = iris.data[:, iris.feature_names.index('petal width (cm)')]\n",
    "\n",
    "for target in set(iris.target):\n",
    "    example_ids = target == iris.target\n",
    "    scatter(petal_length[example_ids], petal_width[example_ids],\n",
    "            label=iris.target_names[target], color='bgr'[target],\n",
    "            marker='x', alpha=0.7)\n",
    "unknown = np.array([\n",
    "    [1.5, 0.3],\n",
    "    [4.5, 1.2],\n",
    "    [5.5, 2.3],\n",
    "    [5.1, 1.7]\n",
    "])\n",
    "scatter(unknown[:, 0], unknown[:, 1], marker='v',\n",
    "        color='gray', s=50, label='??')\n",
    "xlabel('petal length (cm)')\n",
    "ylabel('petal width (cm)')\n",
    "grid(True)\n",
    "legend(loc='upper left');"
   ]
  },
  {
   "cell_type": "markdown",
   "metadata": {},
   "source": [
    "Based on these two features, it is easy to distinguish iris setosa from the two remaining species. Yet iris versicolor and virginica remain mixed together. \n",
    "\n",
    "Looking closely at the plot, we might estimate the species of the selected unknown irises (gray triangles). For three of them the answer seems obvious – they belong in uniformly-colored areas covered by one species only. Yet unknown iris flower in (5.1, 1.7) is troublesome – it lays on the boundary of versicolor and virginica clusters. We can assume, that its species is the one of the closest one to it, coming from the training set (and so having a label). \n",
    "\n",
    "K-Nearest Neighbors method (http://en.wikipedia.org/wiki/K-nearest_neighbors_algorithm) solves the classification problem, i.e. sets class labels (species in case of irises) of a previously unseen sample by choosing the most common class among the top k neighbors of the sample in question (for instance according to the Euclidean distance). Thus, the k-Nearest Neighbors algorithm works as follows. For each unlabeled sample x:\n",
    "1. Find k nearest neighbors among the labeled samples.\n",
    "2. Set the most common label among them as label of x."
   ]
  },
  {
   "cell_type": "markdown",
   "metadata": {},
   "source": [
    "## Problem 2 [2p]\n",
    "\n",
    "1.  **[1p]** Load the iris data (in Python it’s built-in into machine learning libraries, use sklearn.datasets.load_iris), the data is also available on-line at https://archive.ics.uci.edu/ml/datasets/Iris\n",
    "\n",
    "2.  **[1p]** Irises are described with 4 attributes: petal and sepal widths and lengths. We often plot such data as matrices depicting relationships between pairs of attributes (the diagonal of which holds an ordinary histogram). Write code making a plot like the one below. Please pay attention to the details: make a proper legend and correctly label the axes.\n",
    "\n",
    "<img src=\"iris4x4.png\"/>"
   ]
  },
  {
   "cell_type": "code",
   "execution_count": 19,
   "metadata": {},
   "outputs": [
    {
     "data": {
      "text/plain": [
       "<matplotlib.legend.Legend at 0x7f2973bf44d0>"
      ]
     },
     "execution_count": 19,
     "metadata": {},
     "output_type": "execute_result"
    },
    {
     "data": {
      "image/png": "[encoded data removed]",
      "text/plain": [
       "<matplotlib.figure.Figure at 0x7f297c867c50>"
      ]
     },
     "metadata": {},
     "output_type": "display_data"
    }
   ],
   "source": [
    "# iris dataset was loaded in cell above\n",
    "fig, axes = plt.subplots(4, 4, figsize = (12, 12))\n",
    "for i, feature_y in enumerate(iris.feature_names):\n",
    "    axes[i, 0].set_ylabel(feature_y)\n",
    "    for j, feature_x in enumerate(iris.feature_names):\n",
    "        axes[3, j].set_xlabel(feature_x)\n",
    "        features_y = iris.data[:, iris.feature_names.index(feature_y)]\n",
    "        features_x = iris.data[:, iris.feature_names.index(feature_x)]\n",
    "        if i == j:\n",
    "            axes[i, j].hist(features_y, edgecolor='black', color='b')\n",
    "            axes[i,j].yaxis.set_major_locator(plt.MaxNLocator(6))\n",
    "            axes[i,j].xaxis.set_major_locator(plt.MaxNLocator(6))\n",
    "            continue\n",
    "        for target in set(iris.target):\n",
    "            target_ids = iris.target == target\n",
    "            axes[i, j].scatter(features_x[target_ids], features_y[target_ids], label=iris.target_names[target], \n",
    "                color='bgr'[target])\n",
    "        axes[i,j].yaxis.set_major_locator(plt.MaxNLocator(10))\n",
    "        axes[i,j].xaxis.set_major_locator(plt.MaxNLocator(10))\n",
    "handles, labels = axes[1,0].get_legend_handles_labels()\n",
    "fig.legend(handles, labels, loc='upper center', ncol=3, fontsize='large', scatterpoints=3)"
   ]
  },
  {
   "cell_type": "markdown",
   "metadata": {},
   "source": [
    "## Problem 3 [2p]\n",
    "\n",
    "Implement the k-Nearest Neighbors algorithm. Try to\n",
    "take advantage of matrix calculus rather than using for loops.\n",
    "\n",
    "**Tip:** What is computed by \\begin{equation} \\sqrt{(X - Y)^T (X - Y)} \\end{equation} when both X and Y are vectors?\n",
    "\n",
    "**Tip:** Try to use broadcasting (NumPy: http://docs.scipy.org/doc/numpy/user/basics.broadcasting.html) and built-ins sort, numpy.sort, numpy.argsort (sorting), scipy.stats.mode (choosing the most common element of the set)."
   ]
  },
  {
   "cell_type": "code",
   "execution_count": 10,
   "metadata": {
    "collapsed": true
   },
   "outputs": [],
   "source": [
    "from scipy.stats import mode\n",
    "def knn(X_train, Y_train, X, k):\n",
    "    X_train_squares = np.sum(X_train ** 2, axis = 1).reshape(-1, 1)\n",
    "    X_squares = np.sum(X ** 2, axis = 1).reshape(1, -1)\n",
    "    dists = np.sqrt(-2 * np.dot(X_train, X.T) + X_squares + X_train_squares)\n",
    "    dists_sorted_indices = np.argsort(dists, axis=0)[:k, :]\n",
    "    k_nearest_classifications = Y_train[dists_sorted_indices]\n",
    "    return mode(k_nearest_classifications, axis=0)[0].reshape(-1)"
   ]
  },
  {
   "cell_type": "markdown",
   "metadata": {},
   "source": [
    "## Problem 4 [2p]\n",
    "Consider the following experiment:\n",
    "1. We scramble the data and split it into two parts - training set (66.6% of all samples) and test set (33.4%).\n",
    "2. Based on the training set, we use the k-NN algorithm to predict the labels on the test set.\n",
    "3. We then check the number of errors and write it down.\n",
    "\n",
    "Do this 500 times for k ∈ {1, 3, 5, ..., 19}. Plot a function of the average number of errors\n",
    "as the function of k. It should be similar to the one below.\n",
    "\n",
    "<img src=\"knn.png\"/>"
   ]
  },
  {
   "cell_type": "code",
   "execution_count": 23,
   "metadata": {},
   "outputs": [
    {
     "data": {
      "text/plain": [
       "<matplotlib.text.Text at 0x7f2973cdfa10>"
      ]
     },
     "execution_count": 23,
     "metadata": {},
     "output_type": "execute_result"
    },
    {
     "data": {
      "image/png": "[encoded data removed]",
      "text/plain": [
       "<matplotlib.figure.Figure at 0x7f297c8674d0>"
      ]
     },
     "metadata": {},
     "output_type": "display_data"
    }
   ],
   "source": [
    "iris_size = len(iris.data)\n",
    "validation_size = int(iris_size / 3)\n",
    "train_size = iris_size - validation_size\n",
    "\n",
    "# Function shuffles iris data and returns tuple: X_train, Y_train, X_val, Y_val\n",
    "def split_iris_data():\n",
    "    perm = np.random.permutation(iris_size)\n",
    "    train_indices = perm[:train_size]\n",
    "    validation_indices = perm[train_size:]\n",
    "    X_train = iris.data[train_indices]\n",
    "    Y_train = iris.target[train_indices]\n",
    "    X_val = iris.data[validation_indices]\n",
    "    Y_val = iris.target[validation_indices]\n",
    "    return X_train, Y_train, X_val, Y_val\n",
    "\n",
    "test_results = np.zeros((500, 10))\n",
    "for test in range(0, 500):\n",
    "    X_train, Y_train, X_val, Y_val = split_iris_data()\n",
    "    for k in range(1, 20, 2):\n",
    "        Y_pred = knn(X_train, Y_train, X_val, k)\n",
    "        error_count = ((Y_pred - Y_val) != 0).sum()\n",
    "        error = error_count / validation_size\n",
    "        test_results[test, int(k / 2)] = error\n",
    "        \n",
    "ks = np.arange(1, 20, 2)\n",
    "average_results = np.average(test_results, axis = 0) * 100\n",
    "plot(ks, average_results)\n",
    "title('Iris classification using k-NN')\n",
    "xlabel('K')\n",
    "ylabel('Average classification error [%]')"
   ]
  },
  {
   "cell_type": "markdown",
   "metadata": {},
   "source": [
    "## Problem 5 [2p] \n",
    "\n",
    "Apply the K-Nearest Neighbors (K-NN) algorithm to the MNIST and CIFAR10 datasets. \n",
    "\n",
    "The MNIST (http://yann.lecun.com/exdb/mnist/) dataset consists of normalized (centered and stretched) scans of hand-written digits. Specifically, each element of the dataset is a 28 × 28 grayscale image, thus having 764 8-bit pixels. \n",
    "\n",
    "The CIFAR10 (http://www.cs.toronto.edu/~kriz/cifar.html) dataset consists of small, 32 by 32 pixels, RGB images belonging to 10 categories.\n",
    "\n",
    "1. **[1p]** Download and load the MNIST and CIFAR10 datasets. For both datasets, display a few objects from each of the classes, paying attention to aesthetics and clarity of your presentation. **Note:** the datasets are available on Lab computers. Please use the code below to get started.\n",
    "\n",
    "2. **[2p]** Apply a k-NN classifier to the MNIST and CIFAR10 datasets. First, divide the training set into two parts, which we will call training and validation. On MNIST use the first 50000 samples for training and the last 10000 for validation. On CIFAR10, use 40000 to train and 10000 for validation. Then find the optimal number of neighbors by assessing the accuracy on the validation set. You do not need to repeat this experiment multiple times. Finally, compute the accuracy on the test set obtained with the best previously chosen number of neighbors. On MNIST you should get about 3% errors, while on CIFAR10 you should get about 70% errors. Why CIFAR10 is harder than MNIST? Pick a few mislabeled samples from the test dataset and plot them along with the correct ones. **Note:**\n",
    "  * MNIST and CIFAR10 are much larger than the Iris dataset. A good implementation may need a few minutes on Lab computers. Please optimize your algorithm:\n",
    "  * Compute the distances only once, then test for different values of k.\n",
    "  * Use vectorized expressions to compute the distance. It is possible to compute all distances between the training and testing points in one expression. Hint: think about the vectorized expression \\begin{equation}(X - Y)^T (X - Y)\\end{equation}.\n",
    "  * You can use single precision numbers in computation.\n",
    "  * If your code is taking a long time to execute, please save its results before the lab session.\n",
    "\n",
    "**Note:** in NumPy, matrices have its own data type (dtype), which is retained during\n",
    "calculations. Please pay attention to it. I particular, do not subtract values of data types not\n",
    "having the sign bit, do not divide integers, etc. Results of such operations will not be\n",
    "automatically casted to types having the required precision."
   ]
  },
  {
   "cell_type": "code",
   "execution_count": 12,
   "metadata": {},
   "outputs": [],
   "source": [
    "try:\n",
    "    import torchvision\n",
    "\n",
    "    data_path = os.environ.get('PYTORCH_DATA_PATH', '../data')\n",
    "\n",
    "    mnist_full_train_dataset = torchvision.datasets.MNIST(\n",
    "        data_path, train=True, download=True)\n",
    "    mnist_full_train_data_uint8 = mnist_full_train_dataset.train_data.numpy()\n",
    "    mnist_full_train_labels_int64 = mnist_full_train_dataset.train_labels.numpy()\n",
    "\n",
    "    mnist_test_dataset = torchvision.datasets.MNIST(\n",
    "        data_path, train=False, download=True)\n",
    "    mnist_test_data_uint8 = mnist_test_dataset.test_data.numpy()\n",
    "    mnist_test_labels_int64 = mnist_test_dataset.test_labels.numpy()\n",
    "    \n",
    "except ImportError:\n",
    "    # Load the same data without torchvision (e.g., on a personal machine)\n",
    "    with np.load('/pio/data/data/nn17/mnist.npz') as data:\n",
    "        mnist_full_train_data_uint8 = data['train_data']\n",
    "        mnist_full_train_labels_int64 = data['train_labels']\n",
    "        mnist_test_data_uint8 = data['test_data']\n",
    "        mnist_test_labels_int64 = data['test_labels']\n",
    "        \n",
    "# Split train data into train and validation sets\n",
    "mnist_train_data_uint8 = mnist_full_train_data_uint8[:50000]\n",
    "mnist_train_labels_int64 = mnist_full_train_labels_int64[:50000]\n",
    "mnist_valid_data_uint8 = mnist_full_train_data_uint8[50000:]\n",
    "mnist_valid_labels_int64 = mnist_full_train_labels_int64[50000:]"
   ]
  },
  {
   "cell_type": "code",
   "execution_count": 13,
   "metadata": {},
   "outputs": [
    {
     "ename": "ImportError",
     "evalue": "No module named common.plotting",
     "traceback": [
      "\u001b[0;31m---------------------------------------------------------------------------\u001b[0m",
      "\u001b[0;31mImportError\u001b[0m                               Traceback (most recent call last)",
      "\u001b[0;32m<ipython-input-13-bfce54918e14>\u001b[0m in \u001b[0;36m<module>\u001b[0;34m()\u001b[0m\n\u001b[1;32m      2\u001b[0m \u001b[0;32mimport\u001b[0m \u001b[0mos\u001b[0m\u001b[0;34m\u001b[0m\u001b[0m\n\u001b[1;32m      3\u001b[0m \u001b[0mos\u001b[0m\u001b[0;34m.\u001b[0m\u001b[0mchdir\u001b[0m\u001b[0;34m(\u001b[0m\u001b[0;34m'../'\u001b[0m\u001b[0;34m)\u001b[0m\u001b[0;34m\u001b[0m\u001b[0m\n\u001b[0;32m----> 4\u001b[0;31m \u001b[0;32mfrom\u001b[0m \u001b[0mcommon\u001b[0m\u001b[0;34m.\u001b[0m\u001b[0mplotting\u001b[0m \u001b[0;32mimport\u001b[0m \u001b[0mplot_mat\u001b[0m\u001b[0;34m\u001b[0m\u001b[0m\n\u001b[0m\u001b[1;32m      5\u001b[0m \u001b[0mplot_mat\u001b[0m\u001b[0;34m(\u001b[0m\u001b[0mmnist_train_data_uint8\u001b[0m\u001b[0;34m[\u001b[0m\u001b[0;34m:\u001b[0m\u001b[0;36m20\u001b[0m\u001b[0;34m,\u001b[0m \u001b[0mNone\u001b[0m\u001b[0;34m]\u001b[0m\u001b[0;34m,\u001b[0m \u001b[0mcmap\u001b[0m\u001b[0;34m=\u001b[0m\u001b[0;34m'gray'\u001b[0m\u001b[0;34m)\u001b[0m\u001b[0;34m\u001b[0m\u001b[0m\n\u001b[1;32m      6\u001b[0m \u001b[0mmnist_train_data_uint8\u001b[0m\u001b[0;34m.\u001b[0m\u001b[0mshape\u001b[0m\u001b[0;34m\u001b[0m\u001b[0m\n",
      "\u001b[0;31mImportError\u001b[0m: No module named common.plotting"
     ],
     "output_type": "error"
    }
   ],
   "source": [
    "# I don't know why this code works on Jan Chorowski's github without changing of working directory\n",
    "import os\n",
    "os.chdir('../')\n",
    "from common.plotting import plot_mat\n",
    "plot_mat(mnist_train_data_uint8[:20, None], cmap='gray')\n",
    "mnist_train_data_uint8.shape"
   ]
  },
  {
   "cell_type": "code",
   "execution_count": 15,
   "metadata": {},
   "outputs": [],
   "source": [
    "cifar_full_train_data_uint8 = None\n",
    "cifar_full_train_labels_int64 = None\n",
    "cifar_test_data_uint8 = None\n",
    "cifar_test_labels_int64 = None\n",
    "with np.load('/pio/data/data/nn17/cifar.npz') as data:\n",
    "        cifar_full_train_data_uint8 = np.swapaxes(np.swapaxes(data['train_data'], 1, 3), 2, 3)\n",
    "        cifar_full_train_labels_int64 = data['train_labels']\n",
    "        cifar_test_data_uint8 = np.swapaxes(np.swapaxes(data['test_data'], 1, 3), 2, 3)\n",
    "        cifar_test_labels_int64 = data['test_labels']\n",
    "        \n",
    "cifar_train_data_uint8 = cifar_full_train_data_uint8[:40000]\n",
    "cifar_train_labels_int64 = cifar_full_train_labels_int64[:40000]\n",
    "cifar_valid_data_uint8 = cifar_full_train_data_uint8[40000:]\n",
    "cifar_valid_labels_int64 = cifar_full_train_labels_int64[40000:]"
   ]
  },
  {
   "cell_type": "code",
   "execution_count": 27,
   "metadata": {},
   "outputs": [
    {
     "name": "stdout",
     "output_type": "stream",
     "text": [
      "Group 0 (CIFAR):\n"
     ]
    },
    {
     "ename": "NameError",
     "evalue": "name 'plot_mat' is not defined",
     "traceback": [
      "\u001b[0;31m---------------------------------------------------------------------------\u001b[0m",
      "\u001b[0;31mNameError\u001b[0m                                 Traceback (most recent call last)",
      "\u001b[0;32m<ipython-input-27-78d133af4c1f>\u001b[0m in \u001b[0;36m<module>\u001b[0;34m()\u001b[0m\n\u001b[1;32m      3\u001b[0m     \u001b[0mcifar_with_given_label_to_draw\u001b[0m \u001b[0;34m=\u001b[0m \u001b[0mcifar_full_train_data_uint8\u001b[0m\u001b[0;34m[\u001b[0m\u001b[0mindices\u001b[0m\u001b[0;34m]\u001b[0m\u001b[0;34m\u001b[0m\u001b[0m\n\u001b[1;32m      4\u001b[0m     \u001b[0;32mprint\u001b[0m\u001b[0;34m(\u001b[0m\u001b[0;34m'Group {} (CIFAR):'\u001b[0m\u001b[0;34m.\u001b[0m\u001b[0mformat\u001b[0m\u001b[0;34m(\u001b[0m\u001b[0mlabel\u001b[0m\u001b[0;34m)\u001b[0m\u001b[0;34m)\u001b[0m\u001b[0;34m\u001b[0m\u001b[0m\n\u001b[0;32m----> 5\u001b[0;31m     \u001b[0mplot_mat\u001b[0m\u001b[0;34m(\u001b[0m\u001b[0mcifar_with_given_label_to_draw\u001b[0m\u001b[0;34m[\u001b[0m\u001b[0;34m:\u001b[0m\u001b[0;36m10\u001b[0m\u001b[0;34m]\u001b[0m\u001b[0;34m,\u001b[0m \u001b[0mcmap\u001b[0m\u001b[0;34m=\u001b[0m\u001b[0;34m'gray'\u001b[0m\u001b[0;34m)\u001b[0m\u001b[0;34m\u001b[0m\u001b[0m\n\u001b[0m\u001b[1;32m      6\u001b[0m     \u001b[0mshow\u001b[0m\u001b[0;34m(\u001b[0m\u001b[0;34m)\u001b[0m\u001b[0;34m\u001b[0m\u001b[0m\n\u001b[1;32m      7\u001b[0m \u001b[0;34m\u001b[0m\u001b[0m\n",
      "\u001b[0;31mNameError\u001b[0m: name 'plot_mat' is not defined"
     ],
     "output_type": "error"
    }
   ],
   "source": [
    "for label in set(cifar_full_train_labels_int64):\n",
    "    indices = (cifar_full_train_labels_int64 == label)\n",
    "    cifar_with_given_label_to_draw = cifar_full_train_data_uint8[indices]\n",
    "    print('Group {} (CIFAR):'.format(label))\n",
    "    plot_mat(cifar_with_given_label_to_draw[:10], cmap='gray')\n",
    "    show()\n",
    "    \n",
    "    indices = (mnist_train_labels_int64 == label)\n",
    "    mnist_with_given_label = mnist_train_data_uint8[indices]\n",
    "    print('Group {} (MNIST):'.format(label))\n",
    "    plot_mat(mnist_with_given_label[:10, None], cmap='gray')\n",
    "    show()"
   ]
  },
  {
   "cell_type": "code",
   "execution_count": 17,
   "metadata": {},
   "outputs": [],
   "source": [
    "from scipy.stats import mode\n",
    "from numpy.linalg import norm\n",
    "from scipy.spatial.distance import cdist\n",
    "\n",
    "def KNN(train_X, train_Y, test_X, test_Y, ks, batch_size=200, mislabeled_count=0):\n",
    "    \"\"\"\n",
    "    Compute error rate for various \n",
    "    \"\"\"\n",
    "    errs = np.zeros((len(ks),))\n",
    "    other_dims = 1\n",
    "    for dim in train_X.shape:\n",
    "        other_dims *= dim\n",
    "    other_dims = int(other_dims/train_X.shape[0])\n",
    "    train_X = train_X.reshape((train_X.shape[0], other_dims)).astype('float32')\n",
    "    test_X = test_X.reshape((test_X.shape[0], other_dims)).astype('float32')\n",
    "    for i in xrange(0, test_Y.shape[0], batch_size):\n",
    "        batch_X = test_X[i:i + batch_size]\n",
    "        batch_Y = test_Y[i:i + batch_size]\n",
    "        print(\"Examples %d:%d Computing distances... \" %\n",
    "              (i, i + batch_size), end='')\n",
    "\n",
    "        #\n",
    "        # TODO: fill in an efficient distance matrix computation\n",
    "        #\n",
    "        X_train_squares = np.sum(train_X ** 2, axis = 1).reshape(-1, 1)\n",
    "        X_squares = np.sum(batch_X ** 2, axis = 1).reshape(1, -1)\n",
    "        dists = np.sqrt(-2 * np.dot(train_X, batch_X.T) + X_squares + X_train_squares)\n",
    "        print(\"Sorting... \", end='')\n",
    "        closest = np.argsort(dists, 0)\n",
    "\n",
    "        print(\"Computing errors...\")\n",
    "        targets = train_Y[closest]\n",
    "        for ki, k in enumerate(ks):\n",
    "            predictions, unused_counts = mode(targets[:k, :], axis=0)\n",
    "            predictions = predictions.ravel()\n",
    "            errs[ki] += ((batch_Y - predictions) != 0).sum()\n",
    "            if(mislabeled_count > 0 ):\n",
    "                print(\"Indexes: {}\".format(np.arange(i, i + batch_size)))\n",
    "                print(\"Predictions: {}\".format(predictions))\n",
    "                print(\"Actual: {}\".format(batch_Y))\n",
    "                mislabeled_count -= 1\n",
    "\n",
    "    errs /= test_Y.shape\n",
    "    return np.vstack((ks, errs))"
   ]
  },
  {
   "cell_type": "code",
   "execution_count": 103,
   "metadata": {},
   "outputs": [
    {
     "name": "stdout",
     "output_type": "stream",
     "text": [
      "Examples 0:200 Computing distances... Sorting... Computing errors...\n",
      "Examples 200:400 Computing distances... Sorting... Computing errors...\n",
      "Examples 400:600 Computing distances... Sorting... Computing errors...\n",
      "Examples 600:800 Computing distances... Sorting... Computing errors...\n",
      "Examples 800:1000 Computing distances... Sorting... Computing errors...\n",
      "Examples 1000:1200 Computing distances... Sorting... Computing errors...\n",
      "Examples 1200:1400 Computing distances... Sorting... Computing errors...\n",
      "Examples 1400:1600 Computing distances... Sorting... Computing errors...\n",
      "Examples 1600:1800 Computing distances... Sorting... Computing errors...\n",
      "Examples 1800:2000 Computing distances... Sorting... Computing errors...\n",
      "Examples 2000:2200 Computing distances... Sorting... Computing errors...\n",
      "Examples 2200:2400 Computing distances... Sorting... Computing errors...\n",
      "Examples 2400:2600 Computing distances... Sorting... Computing errors...\n",
      "Examples 2600:2800 Computing distances... Sorting... Computing errors...\n",
      "Examples 2800:3000 Computing distances... Sorting... Computing errors...\n",
      "Examples 3000:3200 Computing distances... Sorting... Computing errors...\n",
      "Examples 3200:3400 Computing distances... Sorting... Computing errors...\n",
      "Examples 3400:3600 Computing distances... Sorting... Computing errors...\n",
      "Examples 3600:3800 Computing distances... Sorting... Computing errors...\n",
      "Examples 3800:4000 Computing distances... Sorting... Computing errors...\n",
      "Examples 4000:4200 Computing distances... Sorting... Computing errors...\n",
      "Examples 4200:4400 Computing distances... Sorting... Computing errors...\n",
      "Examples 4400:4600 Computing distances... Sorting... Computing errors...\n",
      "Examples 4600:4800 Computing distances... Sorting... Computing errors...\n",
      "Examples 4800:5000 Computing distances... Sorting... Computing errors...\n",
      "Examples 5000:5200 Computing distances... Sorting... Computing errors...\n",
      "Examples 5200:5400 Computing distances... Sorting... Computing errors...\n",
      "Examples 5400:5600 Computing distances... Sorting... Computing errors...\n",
      "Examples 5600:5800 Computing distances... Sorting... Computing errors...\n",
      "Examples 5800:6000 Computing distances... Sorting... Computing errors...\n",
      "Examples 6000:6200 Computing distances... Sorting... Computing errors...\n",
      "Examples 6200:6400 Computing distances... Sorting... Computing errors...\n",
      "Examples 6400:6600 Computing distances... Sorting... Computing errors...\n",
      "Examples 6600:6800 Computing distances... Sorting... Computing errors...\n",
      "Examples 6800:7000 Computing distances... Sorting... Computing errors...\n",
      "Examples 7000:7200 Computing distances... Sorting... Computing errors...\n",
      "Examples 7200:7400 Computing distances... Sorting... Computing errors...\n",
      "Examples 7400:7600 Computing distances... Sorting... Computing errors...\n",
      "Examples 7600:7800 Computing distances... Sorting... Computing errors...\n",
      "Examples 7800:8000 Computing distances... Sorting... Computing errors...\n",
      "Examples 8000:8200 Computing distances... Sorting... Computing errors...\n",
      "Examples 8200:8400 Computing distances... Sorting... Computing errors...\n",
      "Examples 8400:8600 Computing distances... Sorting... Computing errors...\n",
      "Examples 8600:8800 Computing distances... Sorting... Computing errors...\n",
      "Examples 8800:9000 Computing distances... Sorting... Computing errors...\n",
      "Examples 9000:9200 Computing distances... Sorting... Computing errors...\n",
      "Examples 9200:9400 Computing distances... Sorting... Computing errors...\n",
      "Examples 9400:9600 Computing distances... Sorting... Computing errors...\n",
      "Examples 9600:9800 Computing distances... Sorting... Computing errors...\n",
      "Examples 9800:10000 Computing distances... Sorting... Computing errors...\n"
     ]
    },
    {
     "data": {
      "text/plain": [
       "[<matplotlib.lines.Line2D at 0x7f133d804110>]"
      ]
     },
     "execution_count": 103,
     "metadata": {},
     "output_type": "execute_result"
    },
    {
     "data": {
      "image/png": "[encoded data removed]",
      "text/plain": [
       "<matplotlib.figure.Figure at 0x7f133fedf550>"
      ]
     },
     "metadata": {},
     "output_type": "display_data"
    }
   ],
   "source": [
    "# Now find the best k on the validation set\n",
    "\n",
    "mnist_validation_errs = KNN(\n",
    "    mnist_train_data_uint8, mnist_train_labels_int64,\n",
    "    mnist_valid_data_uint8, mnist_valid_labels_int64,\n",
    "    [1, 3, 5, 7, 9])\n",
    "\n",
    "plt.plot(mnist_validation_errs[0, :], mnist_validation_errs[1, :])"
   ]
  },
  {
   "cell_type": "code",
   "execution_count": 30,
   "metadata": {},
   "outputs": [
    {
     "name": "stdout",
     "output_type": "stream",
     "text": [
      "Examples 0:200 Computing distances... "
     ]
    },
    {
     "name": "stdout",
     "output_type": "stream",
     "text": [
      "Sorting... "
     ]
    },
    {
     "name": "stdout",
     "output_type": "stream",
     "text": [
      "Computing errors...\nExamples 200:400 Computing distances... "
     ]
    },
    {
     "name": "stdout",
     "output_type": "stream",
     "text": [
      "Sorting... "
     ]
    },
    {
     "name": "stdout",
     "output_type": "stream",
     "text": [
      "Computing errors...\nExamples 400:600 Computing distances... "
     ]
    },
    {
     "name": "stdout",
     "output_type": "stream",
     "text": [
      "Sorting... "
     ]
    },
    {
     "name": "stdout",
     "output_type": "stream",
     "text": [
      "Computing errors...\nExamples 600:800 Computing distances... "
     ]
    },
    {
     "name": "stdout",
     "output_type": "stream",
     "text": [
      "Sorting... "
     ]
    },
    {
     "name": "stdout",
     "output_type": "stream",
     "text": [
      "Computing errors...\nExamples 800:1000 Computing distances... "
     ]
    },
    {
     "name": "stdout",
     "output_type": "stream",
     "text": [
      "Sorting... "
     ]
    },
    {
     "name": "stdout",
     "output_type": "stream",
     "text": [
      "Computing errors...\nExamples 1000:1200 Computing distances... "
     ]
    },
    {
     "name": "stdout",
     "output_type": "stream",
     "text": [
      "Sorting... "
     ]
    },
    {
     "name": "stdout",
     "output_type": "stream",
     "text": [
      "Computing errors...\nExamples 1200:1400 Computing distances... "
     ]
    },
    {
     "name": "stdout",
     "output_type": "stream",
     "text": [
      "Sorting... "
     ]
    },
    {
     "name": "stdout",
     "output_type": "stream",
     "text": [
      "Computing errors...\nExamples 1400:1600 Computing distances... "
     ]
    },
    {
     "name": "stdout",
     "output_type": "stream",
     "text": [
      "Sorting... "
     ]
    },
    {
     "name": "stdout",
     "output_type": "stream",
     "text": [
      "Computing errors...\nExamples 1600:1800 Computing distances... "
     ]
    },
    {
     "name": "stdout",
     "output_type": "stream",
     "text": [
      "Sorting... "
     ]
    },
    {
     "name": "stdout",
     "output_type": "stream",
     "text": [
      "Computing errors...\nExamples 1800:2000 Computing distances... "
     ]
    },
    {
     "name": "stdout",
     "output_type": "stream",
     "text": [
      "Sorting... "
     ]
    },
    {
     "name": "stdout",
     "output_type": "stream",
     "text": [
      "Computing errors...\nExamples 2000:2200 Computing distances... "
     ]
    },
    {
     "name": "stdout",
     "output_type": "stream",
     "text": [
      "Sorting... "
     ]
    },
    {
     "name": "stdout",
     "output_type": "stream",
     "text": [
      "Computing errors...\nExamples 2200:2400 Computing distances... "
     ]
    },
    {
     "name": "stdout",
     "output_type": "stream",
     "text": [
      "Sorting... "
     ]
    },
    {
     "name": "stdout",
     "output_type": "stream",
     "text": [
      "Computing errors...\nExamples 2400:2600 Computing distances... "
     ]
    },
    {
     "name": "stdout",
     "output_type": "stream",
     "text": [
      "Sorting... "
     ]
    },
    {
     "name": "stdout",
     "output_type": "stream",
     "text": [
      "Computing errors...\nExamples 2600:2800 Computing distances... "
     ]
    },
    {
     "name": "stdout",
     "output_type": "stream",
     "text": [
      "Sorting... "
     ]
    },
    {
     "name": "stdout",
     "output_type": "stream",
     "text": [
      "Computing errors...\nExamples 2800:3000 Computing distances... "
     ]
    },
    {
     "name": "stdout",
     "output_type": "stream",
     "text": [
      "Sorting... "
     ]
    },
    {
     "name": "stdout",
     "output_type": "stream",
     "text": [
      "Computing errors...\nExamples 3000:3200 Computing distances... "
     ]
    },
    {
     "name": "stdout",
     "output_type": "stream",
     "text": [
      "Sorting... "
     ]
    },
    {
     "name": "stdout",
     "output_type": "stream",
     "text": [
      "Computing errors...\nExamples 3200:3400 Computing distances... "
     ]
    },
    {
     "name": "stdout",
     "output_type": "stream",
     "text": [
      "Sorting... "
     ]
    },
    {
     "name": "stdout",
     "output_type": "stream",
     "text": [
      "Computing errors...\nExamples 3400:3600 Computing distances... "
     ]
    },
    {
     "name": "stdout",
     "output_type": "stream",
     "text": [
      "Sorting... "
     ]
    },
    {
     "name": "stdout",
     "output_type": "stream",
     "text": [
      "Computing errors...\nExamples 3600:3800 Computing distances... "
     ]
    },
    {
     "name": "stdout",
     "output_type": "stream",
     "text": [
      "Sorting... "
     ]
    },
    {
     "name": "stdout",
     "output_type": "stream",
     "text": [
      "Computing errors...\nExamples 3800:4000 Computing distances... "
     ]
    },
    {
     "name": "stdout",
     "output_type": "stream",
     "text": [
      "Sorting... "
     ]
    },
    {
     "name": "stdout",
     "output_type": "stream",
     "text": [
      "Computing errors...\nExamples 4000:4200 Computing distances... "
     ]
    },
    {
     "name": "stdout",
     "output_type": "stream",
     "text": [
      "Sorting... "
     ]
    },
    {
     "name": "stdout",
     "output_type": "stream",
     "text": [
      "Computing errors...\nExamples 4200:4400 Computing distances... "
     ]
    },
    {
     "name": "stdout",
     "output_type": "stream",
     "text": [
      "Sorting... "
     ]
    },
    {
     "name": "stdout",
     "output_type": "stream",
     "text": [
      "Computing errors...\nExamples 4400:4600 Computing distances... "
     ]
    },
    {
     "name": "stdout",
     "output_type": "stream",
     "text": [
      "Sorting... "
     ]
    },
    {
     "name": "stdout",
     "output_type": "stream",
     "text": [
      "Computing errors...\nExamples 4600:4800 Computing distances... "
     ]
    },
    {
     "name": "stdout",
     "output_type": "stream",
     "text": [
      "Sorting... "
     ]
    },
    {
     "name": "stdout",
     "output_type": "stream",
     "text": [
      "Computing errors...\nExamples 4800:5000 Computing distances... "
     ]
    },
    {
     "name": "stdout",
     "output_type": "stream",
     "text": [
      "Sorting... "
     ]
    },
    {
     "name": "stdout",
     "output_type": "stream",
     "text": [
      "Computing errors...\nExamples 5000:5200 Computing distances... "
     ]
    },
    {
     "name": "stdout",
     "output_type": "stream",
     "text": [
      "Sorting... "
     ]
    },
    {
     "name": "stdout",
     "output_type": "stream",
     "text": [
      "Computing errors...\nExamples 5200:5400 Computing distances... "
     ]
    },
    {
     "name": "stdout",
     "output_type": "stream",
     "text": [
      "Sorting... "
     ]
    },
    {
     "name": "stdout",
     "output_type": "stream",
     "text": [
      "Computing errors...\nExamples 5400:5600 Computing distances... "
     ]
    },
    {
     "name": "stdout",
     "output_type": "stream",
     "text": [
      "Sorting... "
     ]
    },
    {
     "name": "stdout",
     "output_type": "stream",
     "text": [
      "Computing errors...\nExamples 5600:5800 Computing distances... "
     ]
    },
    {
     "name": "stdout",
     "output_type": "stream",
     "text": [
      "Sorting... "
     ]
    },
    {
     "name": "stdout",
     "output_type": "stream",
     "text": [
      "Computing errors...\nExamples 5800:6000 Computing distances... "
     ]
    },
    {
     "name": "stdout",
     "output_type": "stream",
     "text": [
      "Sorting... "
     ]
    },
    {
     "name": "stdout",
     "output_type": "stream",
     "text": [
      "Computing errors...\nExamples 6000:6200 Computing distances... "
     ]
    },
    {
     "name": "stdout",
     "output_type": "stream",
     "text": [
      "Sorting... "
     ]
    },
    {
     "name": "stdout",
     "output_type": "stream",
     "text": [
      "Computing errors...\nExamples 6200:6400 Computing distances... "
     ]
    },
    {
     "name": "stdout",
     "output_type": "stream",
     "text": [
      "Sorting... "
     ]
    },
    {
     "name": "stdout",
     "output_type": "stream",
     "text": [
      "Computing errors...\nExamples 6400:6600 Computing distances... "
     ]
    },
    {
     "name": "stdout",
     "output_type": "stream",
     "text": [
      "Sorting... "
     ]
    },
    {
     "name": "stdout",
     "output_type": "stream",
     "text": [
      "Computing errors...\nExamples 6600:6800 Computing distances... "
     ]
    },
    {
     "name": "stdout",
     "output_type": "stream",
     "text": [
      "Sorting... "
     ]
    },
    {
     "name": "stdout",
     "output_type": "stream",
     "text": [
      "Computing errors...\nExamples 6800:7000 Computing distances... "
     ]
    },
    {
     "name": "stdout",
     "output_type": "stream",
     "text": [
      "Sorting... "
     ]
    },
    {
     "name": "stdout",
     "output_type": "stream",
     "text": [
      "Computing errors...\nExamples 7000:7200 Computing distances... "
     ]
    },
    {
     "name": "stdout",
     "output_type": "stream",
     "text": [
      "Sorting... "
     ]
    },
    {
     "name": "stdout",
     "output_type": "stream",
     "text": [
      "Computing errors...\nExamples 7200:7400 Computing distances... "
     ]
    },
    {
     "name": "stdout",
     "output_type": "stream",
     "text": [
      "Sorting... "
     ]
    },
    {
     "name": "stdout",
     "output_type": "stream",
     "text": [
      "Computing errors...\nExamples 7400:7600 Computing distances... "
     ]
    },
    {
     "name": "stdout",
     "output_type": "stream",
     "text": [
      "Sorting... "
     ]
    },
    {
     "name": "stdout",
     "output_type": "stream",
     "text": [
      "Computing errors...\nExamples 7600:7800 Computing distances... "
     ]
    },
    {
     "name": "stdout",
     "output_type": "stream",
     "text": [
      "Sorting... "
     ]
    },
    {
     "name": "stdout",
     "output_type": "stream",
     "text": [
      "Computing errors...\nExamples 7800:8000 Computing distances... "
     ]
    },
    {
     "name": "stdout",
     "output_type": "stream",
     "text": [
      "Sorting... "
     ]
    },
    {
     "name": "stdout",
     "output_type": "stream",
     "text": [
      "Computing errors...\nExamples 8000:8200 Computing distances... "
     ]
    },
    {
     "name": "stdout",
     "output_type": "stream",
     "text": [
      "Sorting... "
     ]
    },
    {
     "name": "stdout",
     "output_type": "stream",
     "text": [
      "Computing errors...\nExamples 8200:8400 Computing distances... "
     ]
    },
    {
     "name": "stdout",
     "output_type": "stream",
     "text": [
      "Sorting... "
     ]
    },
    {
     "name": "stdout",
     "output_type": "stream",
     "text": [
      "Computing errors...\nExamples 8400:8600 Computing distances... "
     ]
    },
    {
     "name": "stdout",
     "output_type": "stream",
     "text": [
      "Sorting... "
     ]
    },
    {
     "name": "stdout",
     "output_type": "stream",
     "text": [
      "Computing errors...\nExamples 8600:8800 Computing distances... "
     ]
    },
    {
     "name": "stdout",
     "output_type": "stream",
     "text": [
      "Sorting... "
     ]
    },
    {
     "name": "stdout",
     "output_type": "stream",
     "text": [
      "Computing errors...\nExamples 8800:9000 Computing distances... "
     ]
    },
    {
     "name": "stdout",
     "output_type": "stream",
     "text": [
      "Sorting... "
     ]
    },
    {
     "name": "stdout",
     "output_type": "stream",
     "text": [
      "Computing errors...\nExamples 9000:9200 Computing distances... "
     ]
    },
    {
     "name": "stdout",
     "output_type": "stream",
     "text": [
      "Sorting... "
     ]
    },
    {
     "name": "stdout",
     "output_type": "stream",
     "text": [
      "Computing errors...\nExamples 9200:9400 Computing distances... "
     ]
    },
    {
     "name": "stdout",
     "output_type": "stream",
     "text": [
      "Sorting... "
     ]
    },
    {
     "name": "stdout",
     "output_type": "stream",
     "text": [
      "Computing errors...\nExamples 9400:9600 Computing distances... "
     ]
    },
    {
     "name": "stdout",
     "output_type": "stream",
     "text": [
      "Sorting... "
     ]
    },
    {
     "name": "stdout",
     "output_type": "stream",
     "text": [
      "Computing errors...\nExamples 9600:9800 Computing distances... "
     ]
    },
    {
     "name": "stdout",
     "output_type": "stream",
     "text": [
      "Sorting... "
     ]
    },
    {
     "name": "stdout",
     "output_type": "stream",
     "text": [
      "Computing errors...\nExamples 9800:10000 Computing distances... "
     ]
    },
    {
     "name": "stdout",
     "output_type": "stream",
     "text": [
      "Sorting... "
     ]
    },
    {
     "name": "stdout",
     "output_type": "stream",
     "text": [
      "Computing errors...\nWhen k=3 the test error rate is 2.9%\n"
     ]
    }
   ],
   "source": [
    "# Now use the best k to compute the test error\n",
    "\n",
    "best_K = 3\n",
    "\n",
    "mnist_test_errs = KNN(mnist_full_train_data_uint8, \n",
    "                      mnist_full_train_labels_int64,\n",
    "                      mnist_test_data_uint8, \n",
    "                      mnist_test_labels_int64, [best_K])\n",
    "print(\"When k=%d the test error rate is %.1f%%\" %\n",
    "      (mnist_test_errs[0, 0], mnist_test_errs[1, 0] * 100.0))"
   ]
  },
  {
   "cell_type": "code",
   "execution_count": 113,
   "metadata": {},
   "outputs": [
    {
     "name": "stdout",
     "output_type": "stream",
     "text": [
      "Examples 0:200 Computing distances... Sorting... Computing errors...\n",
      "Examples 200:400 Computing distances... Sorting... Computing errors...\n",
      "Examples 400:600 Computing distances... Sorting... Computing errors...\n",
      "Examples 600:800 Computing distances... Sorting... Computing errors...\n",
      "Examples 800:1000 Computing distances... Sorting... Computing errors...\n",
      "Examples 1000:1200 Computing distances... Sorting... Computing errors...\n",
      "Examples 1200:1400 Computing distances... Sorting... Computing errors...\n",
      "Examples 1400:1600 Computing distances... Sorting... Computing errors...\n",
      "Examples 1600:1800 Computing distances... Sorting... Computing errors...\n",
      "Examples 1800:2000 Computing distances... Sorting... Computing errors...\n",
      "Examples 2000:2200 Computing distances... Sorting... Computing errors...\n",
      "Examples 2200:2400 Computing distances... Sorting... Computing errors...\n",
      "Examples 2400:2600 Computing distances... Sorting... Computing errors...\n",
      "Examples 2600:2800 Computing distances... Sorting... Computing errors...\n",
      "Examples 2800:3000 Computing distances... Sorting... Computing errors...\n",
      "Examples 3000:3200 Computing distances... Sorting... Computing errors...\n",
      "Examples 3200:3400 Computing distances... Sorting... Computing errors...\n",
      "Examples 3400:3600 Computing distances... Sorting... Computing errors...\n",
      "Examples 3600:3800 Computing distances... Sorting... Computing errors...\n",
      "Examples 3800:4000 Computing distances... Sorting... Computing errors...\n",
      "Examples 4000:4200 Computing distances... Sorting... Computing errors...\n",
      "Examples 4200:4400 Computing distances... Sorting... Computing errors...\n",
      "Examples 4400:4600 Computing distances... Sorting... Computing errors...\n",
      "Examples 4600:4800 Computing distances... Sorting... Computing errors...\n",
      "Examples 4800:5000 Computing distances... Sorting... Computing errors...\n",
      "Examples 5000:5200 Computing distances... Sorting... Computing errors...\n",
      "Examples 5200:5400 Computing distances... Sorting... Computing errors...\n",
      "Examples 5400:5600 Computing distances... Sorting... Computing errors...\n",
      "Examples 5600:5800 Computing distances... Sorting... Computing errors...\n",
      "Examples 5800:6000 Computing distances... Sorting... Computing errors...\n",
      "Examples 6000:6200 Computing distances... Sorting... Computing errors...\n",
      "Examples 6200:6400 Computing distances... Sorting... Computing errors...\n",
      "Examples 6400:6600 Computing distances... Sorting... Computing errors...\n",
      "Examples 6600:6800 Computing distances... Sorting... Computing errors...\n",
      "Examples 6800:7000 Computing distances... Sorting... Computing errors...\n",
      "Examples 7000:7200 Computing distances... Sorting... Computing errors...\n",
      "Examples 7200:7400 Computing distances... Sorting... Computing errors...\n",
      "Examples 7400:7600 Computing distances... Sorting... Computing errors...\n",
      "Examples 7600:7800 Computing distances... Sorting... Computing errors...\n",
      "Examples 7800:8000 Computing distances... Sorting... Computing errors...\n",
      "Examples 8000:8200 Computing distances... Sorting... Computing errors...\n",
      "Examples 8200:8400 Computing distances... Sorting... Computing errors...\n",
      "Examples 8400:8600 Computing distances... Sorting... Computing errors...\n",
      "Examples 8600:8800 Computing distances... Sorting... Computing errors...\n",
      "Examples 8800:9000 Computing distances... Sorting... Computing errors...\n",
      "Examples 9000:9200 Computing distances... Sorting... Computing errors...\n",
      "Examples 9200:9400 Computing distances... Sorting... Computing errors...\n",
      "Examples 9400:9600 Computing distances... Sorting... Computing errors...\n",
      "Examples 9600:9800 Computing distances... Sorting... Computing errors...\n",
      "Examples 9800:10000 Computing distances... Sorting... Computing errors...\n"
     ]
    },
    {
     "data": {
      "text/plain": [
       "[<matplotlib.lines.Line2D at 0x7f133e362a50>]"
      ]
     },
     "execution_count": 113,
     "metadata": {},
     "output_type": "execute_result"
    },
    {
     "data": {
      "image/png": "[encoded data removed]",
      "text/plain": [
       "<matplotlib.figure.Figure at 0x7f133e214f50>"
      ]
     },
     "metadata": {},
     "output_type": "display_data"
    }
   ],
   "source": [
    "cifar_validation_errs = KNN(\n",
    "    cifar_train_data_uint8, cifar_train_labels_int64,\n",
    "    cifar_valid_data_uint8, cifar_valid_labels_int64,\n",
    "    [1, 3, 5, 7, 9])\n",
    "\n",
    "plt.plot(cifar_validation_errs[0, :], cifar_validation_errs[1, :])"
   ]
  },
  {
   "cell_type": "code",
   "execution_count": 19,
   "metadata": {},
   "outputs": [
    {
     "name": "stdout",
     "output_type": "stream",
     "text": [
      "Examples 0:200 Computing distances... "
     ]
    },
    {
     "name": "stdout",
     "output_type": "stream",
     "text": [
      "Sorting... "
     ]
    },
    {
     "name": "stdout",
     "output_type": "stream",
     "text": [
      "Computing errors...\nExamples 200:400 Computing distances... "
     ]
    },
    {
     "name": "stdout",
     "output_type": "stream",
     "text": [
      "Sorting... "
     ]
    },
    {
     "name": "stdout",
     "output_type": "stream",
     "text": [
      "Computing errors...\nExamples 400:600 Computing distances... "
     ]
    },
    {
     "name": "stdout",
     "output_type": "stream",
     "text": [
      "Sorting... "
     ]
    },
    {
     "name": "stdout",
     "output_type": "stream",
     "text": [
      "Computing errors...\nExamples 600:800 Computing distances... "
     ]
    },
    {
     "name": "stdout",
     "output_type": "stream",
     "text": [
      "Sorting... "
     ]
    },
    {
     "name": "stdout",
     "output_type": "stream",
     "text": [
      "Computing errors...\nExamples 800:1000 Computing distances... "
     ]
    },
    {
     "name": "stdout",
     "output_type": "stream",
     "text": [
      "Sorting... "
     ]
    },
    {
     "name": "stdout",
     "output_type": "stream",
     "text": [
      "Computing errors...\nExamples 1000:1200 Computing distances... "
     ]
    },
    {
     "name": "stdout",
     "output_type": "stream",
     "text": [
      "Sorting... "
     ]
    },
    {
     "name": "stdout",
     "output_type": "stream",
     "text": [
      "Computing errors...\nExamples 1200:1400 Computing distances... "
     ]
    },
    {
     "name": "stdout",
     "output_type": "stream",
     "text": [
      "Sorting... "
     ]
    },
    {
     "name": "stdout",
     "output_type": "stream",
     "text": [
      "Computing errors...\nExamples 1400:1600 Computing distances... "
     ]
    },
    {
     "name": "stdout",
     "output_type": "stream",
     "text": [
      "Sorting... "
     ]
    },
    {
     "name": "stdout",
     "output_type": "stream",
     "text": [
      "Computing errors...\nExamples 1600:1800 Computing distances... "
     ]
    },
    {
     "name": "stdout",
     "output_type": "stream",
     "text": [
      "Sorting... "
     ]
    },
    {
     "name": "stdout",
     "output_type": "stream",
     "text": [
      "Computing errors...\nExamples 1800:2000 Computing distances... "
     ]
    },
    {
     "name": "stdout",
     "output_type": "stream",
     "text": [
      "Sorting... "
     ]
    },
    {
     "name": "stdout",
     "output_type": "stream",
     "text": [
      "Computing errors...\nExamples 2000:2200 Computing distances... "
     ]
    },
    {
     "name": "stdout",
     "output_type": "stream",
     "text": [
      "Sorting... "
     ]
    },
    {
     "name": "stdout",
     "output_type": "stream",
     "text": [
      "Computing errors...\nExamples 2200:2400 Computing distances... "
     ]
    },
    {
     "name": "stdout",
     "output_type": "stream",
     "text": [
      "Sorting... "
     ]
    },
    {
     "name": "stdout",
     "output_type": "stream",
     "text": [
      "Computing errors...\nExamples 2400:2600 Computing distances... "
     ]
    },
    {
     "name": "stdout",
     "output_type": "stream",
     "text": [
      "Sorting... "
     ]
    },
    {
     "name": "stdout",
     "output_type": "stream",
     "text": [
      "Computing errors...\nExamples 2600:2800 Computing distances... "
     ]
    },
    {
     "name": "stdout",
     "output_type": "stream",
     "text": [
      "Sorting... "
     ]
    },
    {
     "name": "stdout",
     "output_type": "stream",
     "text": [
      "Computing errors...\nExamples 2800:3000 Computing distances... "
     ]
    },
    {
     "name": "stdout",
     "output_type": "stream",
     "text": [
      "Sorting... "
     ]
    },
    {
     "name": "stdout",
     "output_type": "stream",
     "text": [
      "Computing errors...\nExamples 3000:3200 Computing distances... "
     ]
    },
    {
     "name": "stdout",
     "output_type": "stream",
     "text": [
      "Sorting... "
     ]
    },
    {
     "name": "stdout",
     "output_type": "stream",
     "text": [
      "Computing errors...\nExamples 3200:3400 Computing distances... "
     ]
    },
    {
     "name": "stdout",
     "output_type": "stream",
     "text": [
      "Sorting... "
     ]
    },
    {
     "name": "stdout",
     "output_type": "stream",
     "text": [
      "Computing errors...\nExamples 3400:3600 Computing distances... "
     ]
    },
    {
     "name": "stdout",
     "output_type": "stream",
     "text": [
      "Sorting... "
     ]
    },
    {
     "name": "stdout",
     "output_type": "stream",
     "text": [
      "Computing errors...\nExamples 3600:3800 Computing distances... "
     ]
    },
    {
     "name": "stdout",
     "output_type": "stream",
     "text": [
      "Sorting... "
     ]
    },
    {
     "name": "stdout",
     "output_type": "stream",
     "text": [
      "Computing errors...\nExamples 3800:4000 Computing distances... "
     ]
    },
    {
     "name": "stdout",
     "output_type": "stream",
     "text": [
      "Sorting... "
     ]
    },
    {
     "name": "stdout",
     "output_type": "stream",
     "text": [
      "Computing errors...\nExamples 4000:4200 Computing distances... "
     ]
    },
    {
     "name": "stdout",
     "output_type": "stream",
     "text": [
      "Sorting... "
     ]
    },
    {
     "name": "stdout",
     "output_type": "stream",
     "text": [
      "Computing errors...\nExamples 4200:4400 Computing distances... "
     ]
    },
    {
     "name": "stdout",
     "output_type": "stream",
     "text": [
      "Sorting... "
     ]
    },
    {
     "name": "stdout",
     "output_type": "stream",
     "text": [
      "Computing errors...\nExamples 4400:4600 Computing distances... "
     ]
    },
    {
     "name": "stdout",
     "output_type": "stream",
     "text": [
      "Sorting... "
     ]
    },
    {
     "name": "stdout",
     "output_type": "stream",
     "text": [
      "Computing errors...\nExamples 4600:4800 Computing distances... "
     ]
    },
    {
     "name": "stdout",
     "output_type": "stream",
     "text": [
      "Sorting... "
     ]
    },
    {
     "name": "stdout",
     "output_type": "stream",
     "text": [
      "Computing errors...\nExamples 4800:5000 Computing distances... "
     ]
    },
    {
     "name": "stdout",
     "output_type": "stream",
     "text": [
      "Sorting... "
     ]
    },
    {
     "name": "stdout",
     "output_type": "stream",
     "text": [
      "Computing errors...\nExamples 5000:5200 Computing distances... "
     ]
    },
    {
     "name": "stdout",
     "output_type": "stream",
     "text": [
      "Sorting... "
     ]
    },
    {
     "name": "stdout",
     "output_type": "stream",
     "text": [
      "Computing errors...\nExamples 5200:5400 Computing distances... "
     ]
    },
    {
     "name": "stdout",
     "output_type": "stream",
     "text": [
      "Sorting... "
     ]
    },
    {
     "name": "stdout",
     "output_type": "stream",
     "text": [
      "Computing errors...\nExamples 5400:5600 Computing distances... "
     ]
    },
    {
     "name": "stdout",
     "output_type": "stream",
     "text": [
      "Sorting... "
     ]
    },
    {
     "name": "stdout",
     "output_type": "stream",
     "text": [
      "Computing errors...\nExamples 5600:5800 Computing distances... "
     ]
    },
    {
     "name": "stdout",
     "output_type": "stream",
     "text": [
      "Sorting... "
     ]
    },
    {
     "name": "stdout",
     "output_type": "stream",
     "text": [
      "Computing errors...\nExamples 5800:6000 Computing distances... "
     ]
    },
    {
     "name": "stdout",
     "output_type": "stream",
     "text": [
      "Sorting... "
     ]
    },
    {
     "name": "stdout",
     "output_type": "stream",
     "text": [
      "Computing errors...\nExamples 6000:6200 Computing distances... "
     ]
    },
    {
     "name": "stdout",
     "output_type": "stream",
     "text": [
      "Sorting... "
     ]
    },
    {
     "name": "stdout",
     "output_type": "stream",
     "text": [
      "Computing errors...\nExamples 6200:6400 Computing distances... "
     ]
    },
    {
     "name": "stdout",
     "output_type": "stream",
     "text": [
      "Sorting... "
     ]
    },
    {
     "name": "stdout",
     "output_type": "stream",
     "text": [
      "Computing errors...\nExamples 6400:6600 Computing distances... "
     ]
    },
    {
     "name": "stdout",
     "output_type": "stream",
     "text": [
      "Sorting... "
     ]
    },
    {
     "name": "stdout",
     "output_type": "stream",
     "text": [
      "Computing errors...\nExamples 6600:6800 Computing distances... "
     ]
    },
    {
     "name": "stdout",
     "output_type": "stream",
     "text": [
      "Sorting... "
     ]
    },
    {
     "name": "stdout",
     "output_type": "stream",
     "text": [
      "Computing errors...\nExamples 6800:7000 Computing distances... "
     ]
    },
    {
     "name": "stdout",
     "output_type": "stream",
     "text": [
      "Sorting... "
     ]
    },
    {
     "name": "stdout",
     "output_type": "stream",
     "text": [
      "Computing errors...\nExamples 7000:7200 Computing distances... "
     ]
    },
    {
     "name": "stdout",
     "output_type": "stream",
     "text": [
      "Sorting... "
     ]
    },
    {
     "name": "stdout",
     "output_type": "stream",
     "text": [
      "Computing errors...\nExamples 7200:7400 Computing distances... "
     ]
    },
    {
     "name": "stdout",
     "output_type": "stream",
     "text": [
      "Sorting... "
     ]
    },
    {
     "name": "stdout",
     "output_type": "stream",
     "text": [
      "Computing errors...\nExamples 7400:7600 Computing distances... "
     ]
    },
    {
     "name": "stdout",
     "output_type": "stream",
     "text": [
      "Sorting... "
     ]
    },
    {
     "name": "stdout",
     "output_type": "stream",
     "text": [
      "Computing errors...\nExamples 7600:7800 Computing distances... "
     ]
    },
    {
     "name": "stdout",
     "output_type": "stream",
     "text": [
      "Sorting... "
     ]
    },
    {
     "name": "stdout",
     "output_type": "stream",
     "text": [
      "Computing errors...\nExamples 7800:8000 Computing distances... "
     ]
    },
    {
     "name": "stdout",
     "output_type": "stream",
     "text": [
      "Sorting... "
     ]
    },
    {
     "name": "stdout",
     "output_type": "stream",
     "text": [
      "Computing errors...\nExamples 8000:8200 Computing distances... "
     ]
    },
    {
     "name": "stdout",
     "output_type": "stream",
     "text": [
      "Sorting... "
     ]
    },
    {
     "name": "stdout",
     "output_type": "stream",
     "text": [
      "Computing errors...\nExamples 8200:8400 Computing distances... "
     ]
    },
    {
     "name": "stdout",
     "output_type": "stream",
     "text": [
      "Sorting... "
     ]
    },
    {
     "name": "stdout",
     "output_type": "stream",
     "text": [
      "Computing errors...\nExamples 8400:8600 Computing distances... "
     ]
    },
    {
     "name": "stdout",
     "output_type": "stream",
     "text": [
      "Sorting... "
     ]
    },
    {
     "name": "stdout",
     "output_type": "stream",
     "text": [
      "Computing errors...\nExamples 8600:8800 Computing distances... "
     ]
    },
    {
     "name": "stdout",
     "output_type": "stream",
     "text": [
      "Sorting... "
     ]
    },
    {
     "name": "stdout",
     "output_type": "stream",
     "text": [
      "Computing errors...\nExamples 8800:9000 Computing distances... "
     ]
    },
    {
     "name": "stdout",
     "output_type": "stream",
     "text": [
      "Sorting... "
     ]
    },
    {
     "name": "stdout",
     "output_type": "stream",
     "text": [
      "Computing errors...\nExamples 9000:9200 Computing distances... "
     ]
    },
    {
     "name": "stdout",
     "output_type": "stream",
     "text": [
      "Sorting... "
     ]
    },
    {
     "name": "stdout",
     "output_type": "stream",
     "text": [
      "Computing errors...\nExamples 9200:9400 Computing distances... "
     ]
    },
    {
     "name": "stdout",
     "output_type": "stream",
     "text": [
      "Sorting... "
     ]
    },
    {
     "name": "stdout",
     "output_type": "stream",
     "text": [
      "Computing errors...\nExamples 9400:9600 Computing distances... "
     ]
    },
    {
     "name": "stdout",
     "output_type": "stream",
     "text": [
      "Sorting... "
     ]
    },
    {
     "name": "stdout",
     "output_type": "stream",
     "text": [
      "Computing errors...\nExamples 9600:9800 Computing distances... "
     ]
    },
    {
     "name": "stdout",
     "output_type": "stream",
     "text": [
      "Sorting... "
     ]
    },
    {
     "name": "stdout",
     "output_type": "stream",
     "text": [
      "Computing errors...\nExamples 9800:10000 Computing distances... "
     ]
    },
    {
     "name": "stdout",
     "output_type": "stream",
     "text": [
      "Sorting... "
     ]
    },
    {
     "name": "stdout",
     "output_type": "stream",
     "text": [
      "Computing errors...\nWhen k=1 the test error rate is 64.6%\n"
     ]
    }
   ],
   "source": [
    "best_K_cifar = 1\n",
    "\n",
    "cifar_test_errs = KNN(cifar_full_train_data_uint8, \n",
    "                      cifar_full_train_labels_int64,\n",
    "                      cifar_test_data_uint8, \n",
    "                      cifar_test_labels_int64, [best_K_cifar])\n",
    "print(\"When k=%d the test error rate is %.1f%%\" %\n",
    "      (cifar_test_errs[0, 0], cifar_test_errs[1, 0] * 100.0))"
   ]
  },
  {
   "cell_type": "code",
   "execution_count": 124,
   "metadata": {},
   "outputs": [
    {
     "name": "stdout",
     "output_type": "stream",
     "text": [
      "Mislabeled images:\n"
     ]
    },
    {
     "data": {
      "image/png": "[encoded data removed]",
      "text/plain": [
       "<matplotlib.figure.Figure at 0x7f133e33f390>"
      ]
     },
     "metadata": {},
     "output_type": "display_data"
    },
    {
     "name": "stdout",
     "output_type": "stream",
     "text": [
      "Correctly labeled images:\n"
     ]
    },
    {
     "data": {
      "image/png": "[encoded data removed]",
      "text/plain": [
       "<matplotlib.figure.Figure at 0x7f133e3cff50>"
      ]
     },
     "metadata": {},
     "output_type": "display_data"
    }
   ],
   "source": [
    "mislabeled = np.array([ (i in [0, 4, 6, 7, 8]) for i in range(0, 10000)])\n",
    "correct = np.array([ (i in [1,2,3,5,13]) for i in range(0, 10000)])\n",
    "print('Mislabeled images:')\n",
    "plot_mat(cifar_test_data_uint8[mislabeled], cmap='gray')\n",
    "show()\n",
    "print('Correctly labeled images:')\n",
    "plot_mat(cifar_test_data_uint8[correct], cmap='gray')\n",
    "show()"
   ]
  },
  {
   "cell_type": "markdown",
   "metadata": {},
   "source": [
    "# Locality sensitive hashing\n",
    "\n",
    "Problem 5 was about speeding up the inference using loops implicitly present in matrix multiplication instead of explicit loops in Python. In this problem, we will explore a strategy to truly reduce the total number of computations required to find nearest neighbors without sacrificing too much accuracy.\n",
    "\n",
    "To speed up nearest neighbor search we will employ *Locality Sensitive Hashing (LSH)* functions. For a given distance metric, the locality sensitive hash should put items that are similar into the same bucket. Notice that this is essentially a design choice opposite to traditional cryptographic hash functions that should amplify the difference of similar inputs (typically we want that small perturbations of data result in large changes to the hash value).\n",
    "\n",
    "One of the simplest implementations of LSH approximates the cosine distance. Let $x\\in \\mathbb{R}^N$ and $y\\in \\mathbb{R}^N$ be two vectors. Their cosine distance is defined as:\n",
    "\n",
    "\\begin{equation}\n",
    "    d_\\text{cos}(x,y) = \\frac{x \\cdot y}{\\|x\\| \\|y\\|} = \\cos\\left(\\theta(x,y)\\right),\n",
    "\\end{equation}\n",
    "where $\\theta(x,y)$ is the unsigned angle between $x$ and $y$.\n",
    "\n",
    "We will construct a family $H$ of hash functions that are an LSH for angle distances (an approximation to cosine distance). Assume $p\\in \\mathbb{R}^N$ is a random vector (components are sampled from the normal distribution) of length 1. Then define the hash function $h(x) = \\text{sgn}(x\\cdot p)$, where $\\text{sgn()}$ is the sign function. It can be proven that:\n",
    "\n",
    "\\begin{equation}\n",
    "    p_{h\\in H}[h(x)=h(y)] = 1 - \\frac{\\theta(x,y)}{\\pi}.\n",
    "\\end{equation}\n",
    "\n",
    "The equation means that the probability of a hash collision grows as the the angle between two vectors gets smaller. Therefore, vectors that are close according to the cosine distance will be put with high probability into the same bin (we use the fact that for small $\\theta$ we can approximate $\\cos(\\theta) = 1 - \\theta/\\pi$.\n",
    "\n",
    "We will say that a family of randomly chosen hash functions $H$ is $(d_1, d_2, p_1, p_2)$-sensitive with respect to a distance metric $d$ if for any $x$ and $y$:\n",
    "1. If $d(x,y) \\leq d_1$ then $p_{h\\in H}[h(x)=h(y)] \\geq p_1$.\n",
    "2. If $d(x,y) \\geq d_2$ then $p_{h\\in H}[h(x)=h(y)] \\leq p_2$.\n",
    "\n",
    "For example, our family of randomly chosen hyperplanes is $(d_1, d_2, (1-d_1)/\\pi, (1-d_2)/\\pi)$-sensitive.\n",
    "\n",
    "Ideally, vectors should be placed into the same bin with a high probability if their distance is smaller than a threshold, and with a low probability if their distance is larger that the threshold. By combining hashing functions we can get closer to this ideal sensitivity.\n",
    "\n",
    "Given a family of hash functions $H$ with sensitivity $(d_1, d_3, p_1, p_2)$ we can construct a new family $H'$ by combining $r$ functions from $H$:\n",
    "1. AND: let $h=[h_1, h_2, \\ldots, h_r] \\in H'$ and $h(x)=h(y)$ if and only if $\\forall_i h_i(x)=h_i(y)$. Then $H'$ is $(d_1, d_2, (p_1)^r, (p_2)^r)$-sensitive.\n",
    "2. OR: let $h=[h_1, h_2, \\ldots, h_r] \\in H'$ and $h(x)=h(y)$ if and only if $\\exists_i h_i(x)=h_i(y)$. Then $H'$ is $(d_1, d_2, 1-(1-p_1)^r, 1-(1-p_2)^r)$-sensitive.\n",
    "\n",
    "AND makes all probabilities shrink, but properly choosing $r$ we can make the lower probability approach 0 while the higher does not. Conversely, OR makes all probabilities grow, we can make the upper probability approach 1 while the lower does not.\n",
    "\n",
    "\n",
    "\n",
    "## Problem 6 [2-4p bonus] \n",
    "\n",
    "1. **[1bp]** **Note:** you can show sketches of proofs for this assignment.\n",
    "    1. Show that angle between vectors is a metric (https://en.wikipedia.org/wiki/Metric_(mathematics)).\n",
    "    \n",
    "    2. Show that $p_{h\\in H}[h(x)=h(y)] = 1 - \\frac{\\theta(x,y)}{\\pi}$ for $h$ computed using a randomly chosen hyperplane.\n",
    "\n",
    "    3. Show the properties of either AND or OR boosting of LSH.\n",
    "\n",
    "3. **[1-3bp]** Reimplement k-Nearest Neighbors for MNIST classification using the cosine distance instead of the Euclidean distance. Choose a sensible value of $k$. Use Locality Sensitive Hashing to achieve an error rate no greater than $150\\%$ of the original error rate with at least a $90\\%$ speedup (i.e., by considering on average at most 5000 training samples per query image). For a few settings plot the speedup-vs-accuracy relation.\n",
    "\n",
    "  **Note:** points will be awarded based on ingenuity of your solution. Feel free to explore your own ideas!\n"
   ]
  },
  {
   "cell_type": "code",
   "execution_count": 32,
   "metadata": {
    "collapsed": true
   },
   "outputs": [],
   "source": [
    "def KNN_cos(train_X, train_Y, test_X, test_Y, ks, batch_size=200, mislabeled_count=0):\n",
    "    \"\"\"\n",
    "    Compute error rate for various \n",
    "    \"\"\"\n",
    "    errs = np.zeros((len(ks),))\n",
    "    other_dims = 1\n",
    "    for dim in train_X.shape:\n",
    "        other_dims *= dim\n",
    "    other_dims = int(other_dims/train_X.shape[0])\n",
    "    train_X = train_X.reshape((train_X.shape[0], other_dims)).astype('float32')\n",
    "    test_X = test_X.reshape((test_X.shape[0], other_dims)).astype('float32')\n",
    "    for i in xrange(0, test_Y.shape[0], batch_size):\n",
    "        batch_X = test_X[i:i + batch_size]\n",
    "        batch_Y = test_Y[i:i + batch_size]\n",
    "        print(\"Examples %d:%d Computing distances... \" %\n",
    "              (i, i + batch_size), end='')\n",
    "\n",
    "        #\n",
    "        # TODO: fill in an efficient distance matrix computation\n",
    "        #\n",
    "        X_train_norms = np.sqrt(np.sum(train_X ** 2, axis = 1).reshape(-1, 1))\n",
    "        X_batch_norms = np.sqrt(np.sum(batch_X ** 2, axis = 1).reshape(1, -1))\n",
    "        dists = (np.dot(train_X, batch_X.T) / X_train_norms) / X_batch_norms\n",
    "        \n",
    "        print(\"Sorting... \", end='')\n",
    "        closest = np.argsort(-dists, 0)\n",
    "        print(\"Computing errors...\")\n",
    "        targets = train_Y[closest]\n",
    "        for ki, k in enumerate(ks):\n",
    "            predictions, unused_counts = mode(targets[:k, :], axis=0)\n",
    "            predictions = predictions.ravel()\n",
    "            errs[ki] += ((batch_Y - predictions) != 0).sum()\n",
    "            if(mislabeled_count > 0 ):\n",
    "                print(\"Indexes: {}\".format(np.arange(i, i + batch_size)))\n",
    "                print(\"Predictions: {}\".format(predictions))\n",
    "                print(\"Actual: {}\".format(batch_Y))\n",
    "                mislabeled_count -= 1\n",
    "            errs /= test_Y.shape\n",
    "    return np.vstack((ks, errs))"
   ]
  },
  {
   "cell_type": "code",
   "execution_count": 34,
   "metadata": {},
   "outputs": [
    {
     "name": "stdout",
     "output_type": "stream",
     "text": [
      "Examples 0:200 Computing distances... Sorting... "
     ]
    },
    {
     "name": "stdout",
     "output_type": "stream",
     "text": [
      "Computing errors...\nExamples 200:400 Computing distances... Sorting... "
     ]
    },
    {
     "name": "stdout",
     "output_type": "stream",
     "text": [
      "Computing errors...\nExamples 400:600 Computing distances... Sorting... "
     ]
    },
    {
     "name": "stdout",
     "output_type": "stream",
     "text": [
      "Computing errors...\nExamples 600:800 Computing distances... Sorting... "
     ]
    },
    {
     "name": "stdout",
     "output_type": "stream",
     "text": [
      "Computing errors...\nExamples 800:1000 Computing distances... Sorting... "
     ]
    },
    {
     "name": "stdout",
     "output_type": "stream",
     "text": [
      "Computing errors...\nExamples 1000:1200 Computing distances... Sorting... "
     ]
    },
    {
     "name": "stdout",
     "output_type": "stream",
     "text": [
      "Computing errors...\nExamples 1200:1400 Computing distances... Sorting... "
     ]
    },
    {
     "name": "stdout",
     "output_type": "stream",
     "text": [
      "Computing errors...\nExamples 1400:1600 Computing distances... Sorting... "
     ]
    },
    {
     "name": "stdout",
     "output_type": "stream",
     "text": [
      "Computing errors...\nExamples 1600:1800 Computing distances... Sorting... "
     ]
    },
    {
     "name": "stdout",
     "output_type": "stream",
     "text": [
      "Computing errors...\nExamples 1800:2000 Computing distances... Sorting... "
     ]
    },
    {
     "name": "stdout",
     "output_type": "stream",
     "text": [
      "Computing errors...\nExamples 2000:2200 Computing distances... Sorting... "
     ]
    },
    {
     "name": "stdout",
     "output_type": "stream",
     "text": [
      "Computing errors...\nExamples 2200:2400 Computing distances... Sorting... "
     ]
    },
    {
     "name": "stdout",
     "output_type": "stream",
     "text": [
      "Computing errors...\nExamples 2400:2600 Computing distances... Sorting... "
     ]
    },
    {
     "name": "stdout",
     "output_type": "stream",
     "text": [
      "Computing errors...\nExamples 2600:2800 Computing distances... Sorting... "
     ]
    },
    {
     "name": "stdout",
     "output_type": "stream",
     "text": [
      "Computing errors...\nExamples 2800:3000 Computing distances... Sorting... "
     ]
    },
    {
     "name": "stdout",
     "output_type": "stream",
     "text": [
      "Computing errors...\nExamples 3000:3200 Computing distances... Sorting... "
     ]
    },
    {
     "name": "stdout",
     "output_type": "stream",
     "text": [
      "Computing errors...\nExamples 3200:3400 Computing distances... Sorting... "
     ]
    },
    {
     "name": "stdout",
     "output_type": "stream",
     "text": [
      "Computing errors...\nExamples 3400:3600 Computing distances... Sorting... "
     ]
    },
    {
     "name": "stdout",
     "output_type": "stream",
     "text": [
      "Computing errors...\nExamples 3600:3800 Computing distances... Sorting... "
     ]
    },
    {
     "name": "stdout",
     "output_type": "stream",
     "text": [
      "Computing errors...\nExamples 3800:4000 Computing distances... Sorting... "
     ]
    },
    {
     "name": "stdout",
     "output_type": "stream",
     "text": [
      "Computing errors...\nExamples 4000:4200 Computing distances... Sorting... "
     ]
    },
    {
     "name": "stdout",
     "output_type": "stream",
     "text": [
      "Computing errors...\nExamples 4200:4400 Computing distances... Sorting... "
     ]
    },
    {
     "name": "stdout",
     "output_type": "stream",
     "text": [
      "Computing errors...\nExamples 4400:4600 Computing distances... Sorting... "
     ]
    },
    {
     "name": "stdout",
     "output_type": "stream",
     "text": [
      "Computing errors...\nExamples 4600:4800 Computing distances... Sorting... "
     ]
    },
    {
     "name": "stdout",
     "output_type": "stream",
     "text": [
      "Computing errors...\nExamples 4800:5000 Computing distances... Sorting... "
     ]
    },
    {
     "name": "stdout",
     "output_type": "stream",
     "text": [
      "Computing errors...\nExamples 5000:5200 Computing distances... Sorting... "
     ]
    },
    {
     "name": "stdout",
     "output_type": "stream",
     "text": [
      "Computing errors...\nExamples 5200:5400 Computing distances... Sorting... "
     ]
    },
    {
     "name": "stdout",
     "output_type": "stream",
     "text": [
      "Computing errors...\nExamples 5400:5600 Computing distances... Sorting... "
     ]
    },
    {
     "name": "stdout",
     "output_type": "stream",
     "text": [
      "Computing errors...\nExamples 5600:5800 Computing distances... Sorting... "
     ]
    },
    {
     "name": "stdout",
     "output_type": "stream",
     "text": [
      "Computing errors...\nExamples 5800:6000 Computing distances... Sorting... "
     ]
    },
    {
     "name": "stdout",
     "output_type": "stream",
     "text": [
      "Computing errors...\nExamples 6000:6200 Computing distances... Sorting... "
     ]
    },
    {
     "name": "stdout",
     "output_type": "stream",
     "text": [
      "Computing errors...\nExamples 6200:6400 Computing distances... Sorting... "
     ]
    },
    {
     "name": "stdout",
     "output_type": "stream",
     "text": [
      "Computing errors...\nExamples 6400:6600 Computing distances... Sorting... "
     ]
    },
    {
     "name": "stdout",
     "output_type": "stream",
     "text": [
      "Computing errors...\nExamples 6600:6800 Computing distances... Sorting... "
     ]
    },
    {
     "name": "stdout",
     "output_type": "stream",
     "text": [
      "Computing errors...\nExamples 6800:7000 Computing distances... Sorting... "
     ]
    },
    {
     "name": "stdout",
     "output_type": "stream",
     "text": [
      "Computing errors...\nExamples 7000:7200 Computing distances... Sorting... "
     ]
    },
    {
     "name": "stdout",
     "output_type": "stream",
     "text": [
      "Computing errors...\nExamples 7200:7400 Computing distances... Sorting... "
     ]
    },
    {
     "name": "stdout",
     "output_type": "stream",
     "text": [
      "Computing errors...\nExamples 7400:7600 Computing distances... Sorting... "
     ]
    },
    {
     "name": "stdout",
     "output_type": "stream",
     "text": [
      "Computing errors...\nExamples 7600:7800 Computing distances... Sorting... "
     ]
    },
    {
     "name": "stdout",
     "output_type": "stream",
     "text": [
      "Computing errors...\nExamples 7800:8000 Computing distances... Sorting... "
     ]
    },
    {
     "name": "stdout",
     "output_type": "stream",
     "text": [
      "Computing errors...\nExamples 8000:8200 Computing distances... Sorting... "
     ]
    },
    {
     "name": "stdout",
     "output_type": "stream",
     "text": [
      "Computing errors...\nExamples 8200:8400 Computing distances... Sorting... "
     ]
    },
    {
     "name": "stdout",
     "output_type": "stream",
     "text": [
      "Computing errors...\nExamples 8400:8600 Computing distances... Sorting... "
     ]
    },
    {
     "name": "stdout",
     "output_type": "stream",
     "text": [
      "Computing errors...\nExamples 8600:8800 Computing distances... Sorting... "
     ]
    },
    {
     "name": "stdout",
     "output_type": "stream",
     "text": [
      "Computing errors...\nExamples 8800:9000 Computing distances... Sorting... "
     ]
    },
    {
     "name": "stdout",
     "output_type": "stream",
     "text": [
      "Computing errors...\nExamples 9000:9200 Computing distances... Sorting... "
     ]
    },
    {
     "name": "stdout",
     "output_type": "stream",
     "text": [
      "Computing errors...\nExamples 9200:9400 Computing distances... Sorting... "
     ]
    },
    {
     "name": "stdout",
     "output_type": "stream",
     "text": [
      "Computing errors...\nExamples 9400:9600 Computing distances... Sorting... "
     ]
    },
    {
     "name": "stdout",
     "output_type": "stream",
     "text": [
      "Computing errors...\nExamples 9600:9800 Computing distances... Sorting... "
     ]
    },
    {
     "name": "stdout",
     "output_type": "stream",
     "text": [
      "Computing errors...\nExamples 9800:10000 Computing distances... Sorting... "
     ]
    },
    {
     "name": "stdout",
     "output_type": "stream",
     "text": [
      "Computing errors...\n"
     ]
    },
    {
     "data": {
      "text/plain": [
       "[<matplotlib.lines.Line2D at 0x7f296c0bfa10>]"
      ]
     },
     "execution_count": 34,
     "metadata": {},
     "output_type": "execute_result"
    },
    {
     "data": {
      "image/png": "[encoded data removed]",
      "text/plain": [
       "<matplotlib.figure.Figure at 0x7f297c85a250>"
      ]
     },
     "metadata": {},
     "output_type": "display_data"
    }
   ],
   "source": [
    "mnist_test_errs_cos = KNN_cos(mnist_train_data_uint8, \n",
    "                      mnist_train_labels_int64,\n",
    "                      mnist_valid_data_uint8, \n",
    "                      mnist_valid_labels_int64, [1,3,5,7,9,11])\n",
    "\n",
    "plt.plot(mnist_test_errs_cos[0, :], mnist_test_errs_cos[1, :])"
   ]
  },
  {
   "cell_type": "code",
   "execution_count": 42,
   "metadata": {},
   "outputs": [],
   "source": [
    "from enum import Enum\n",
    "\n",
    "class HashCalculator:\n",
    "    RANDOM_RANGE = 30.\n",
    "    \n",
    "    class Mode(Enum):\n",
    "        OR = 0\n",
    "        AND = 1\n",
    "    \n",
    "    def __init__(self, n, r, mode):\n",
    "        self.mode = mode\n",
    "        ps = np.random.uniform(-self.RANDOM_RANGE, self.RANDOM_RANGE, r*n).reshape((r, n))\n",
    "        self.ps = ps / np.sqrt(np.sum(ps ** 2, axis=1).reshape(-1, 1))\n",
    "    \n",
    "    def cos_dist(self, x, y):\n",
    "        norm_x = np.sqrt(np.sum(x ** 2))\n",
    "        norm_y = np.sqrt(np.sum(y ** 2))\n",
    "        return (x.reshape((1, -1)).dot(y.reshape((-1, 1))) / norm_x / norm_y)[0,0]\n",
    "    \n",
    "    def is_hash_equal(self, x, y):\n",
    "        hash_x = np.sign(self.ps.dot(x.reshape((-1, 1))))\n",
    "        hash_y = np.sign(self.ps.dot(y).reshape((-1, 1)))\n",
    "        if self.mode == HashCalculator.Mode.AND:\n",
    "            return np.all(hash_x == hash_y)\n",
    "        elif self.mode == HashCalculator.Mod.OR:\n",
    "            return np.any(hash_x == hash_y)\n",
    "        else:\n",
    "            raise NotImplementedError"
   ]
  },
  {
   "cell_type": "code",
   "execution_count": 52,
   "metadata": {},
   "outputs": [],
   "source": [
    ""
   ]
  },
  {
   "cell_type": "code",
   "execution_count": null,
   "metadata": {},
   "outputs": [],
   "source": []
  }
 ],
 "metadata": {
  "kernelspec": {
   "display_name": "Python 2",
   "language": "python",
   "name": "python2"
  },
  "language_info": {
   "codemirror_mode": {
    "name": "ipython",
    "version": 2
   },
   "file_extension": ".py",
   "mimetype": "text/x-python",
   "name": "python",
   "nbconvert_exporter": "python",
   "pygments_lexer": "ipython2",
   "version": "2.7.13"
  }
 },
 "nbformat": 4,
 "nbformat_minor": 1
}
